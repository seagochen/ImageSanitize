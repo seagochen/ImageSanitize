{
 "cells": [
  {
   "cell_type": "markdown",
   "metadata": {},
   "source": [
    "# 0. Import libraries"
   ]
  },
  {
   "cell_type": "code",
   "execution_count": 1,
   "metadata": {},
   "outputs": [],
   "source": [
    "import numpy as np"
   ]
  },
  {
   "cell_type": "markdown",
   "metadata": {},
   "source": [
    "# 1. Transformations"
   ]
  },
  {
   "cell_type": "code",
   "execution_count": 2,
   "metadata": {},
   "outputs": [],
   "source": [
    "def translate(points, dx, dy):\n",
    "    \"\"\"\n",
    "    对坐标进行平移变换\n",
    "    :param points: 输入的点坐标列表，格式为 [(x1, y1), (x2, y2), ...]\n",
    "    :param dx: x方向平移的量\n",
    "    :param dy: y方向平移的量\n",
    "    :return: 平移后的坐标列表\n",
    "    \"\"\"\n",
    "    translated_points = [(x + dx, y + dy) for x, y in points]\n",
    "    return translated_points\n",
    "\n",
    "def scale(points, sx, sy):\n",
    "    \"\"\"\n",
    "    对坐标进行缩放变换\n",
    "    :param points: 输入的点坐标列表，格式为 [(x1, y1), (x2, y2), ...]\n",
    "    :param sx: x方向的缩放因子\n",
    "    :param sy: y方向的缩放因子\n",
    "    :return: 缩放后的坐标列表\n",
    "    \"\"\"\n",
    "    scaled_points = [(x * sx, y * sy) for x, y in points]\n",
    "    return scaled_points\n",
    "\n",
    "def rotate(points, angle):\n",
    "    \"\"\"\n",
    "    对坐标进行旋转变换\n",
    "    :param points: 输入的点坐标列表，格式为 [(x1, y1), (x2, y2), ...]\n",
    "    :param angle: 旋转角度，单位为弧度\n",
    "    :return: 旋转后的坐标列表\n",
    "    \"\"\"\n",
    "    cos_theta = np.cos(angle)\n",
    "    sin_theta = np.sin(angle)\n",
    "    rotated_points = [(x * cos_theta - y * sin_theta, x * sin_theta + y * cos_theta) for x, y in points]\n",
    "    return rotated_points\n",
    "\n",
    "def transform(points, dx=0, dy=0, sx=1, sy=1, angle=0):\n",
    "    \"\"\"\n",
    "    对坐标进行平移、缩放和旋转的组合变换\n",
    "    :param points: 输入的点坐标列表，格式为 [(x1, y1), (x2, y2), ...]\n",
    "    :param dx: x方向平移的量\n",
    "    :param dy: y方向平移的量\n",
    "    :param sx: x方向的缩放因子\n",
    "    :param sy: y方向的缩放因子\n",
    "    :param angle: 旋转角度，单位为弧度\n",
    "    :return: 变换后的坐标列表\n",
    "    \"\"\"\n",
    "    # 先进行缩放\n",
    "    points = scale(points, sx, sy)\n",
    "    # 再进行旋转\n",
    "    points = rotate(points, angle)\n",
    "    # 最后进行平移\n",
    "    points = translate(points, dx, dy)\n",
    "    return points"
   ]
  },
  {
   "cell_type": "markdown",
   "metadata": {},
   "source": [
    "Do some tests"
   ]
  },
  {
   "cell_type": "code",
   "execution_count": 3,
   "metadata": {},
   "outputs": [
    {
     "name": "stdout",
     "output_type": "stream",
     "text": [
      "Passed\n"
     ]
    }
   ],
   "source": [
    "# 输入坐标点\n",
    "points = [(1, 1), (2, 2), (3, 3)]\n",
    "\n",
    "# 进行组合变换: 平移 (dx=1, dy=2), 缩放 (sx=2, sy=2), 旋转 (angle=np.pi / 4)\n",
    "transformed_points = transform(points, dx=1, dy=2, sx=2, sy=2, angle=np.pi / 4)\n",
    "\n",
    "# Output should be\n",
    "output = [(1.0000000000000002, 4.828427124746191), (1.0000000000000004, 7.6568542494923815), (1.0, 10.485281374238571)]\n",
    "\n",
    "# Assert\n",
    "assert np.allclose(transformed_points, output)\n",
    "print('Passed')"
   ]
  }
 ],
 "metadata": {
  "kernelspec": {
   "display_name": "imagesan",
   "language": "python",
   "name": "python3"
  },
  "language_info": {
   "codemirror_mode": {
    "name": "ipython",
    "version": 3
   },
   "file_extension": ".py",
   "mimetype": "text/x-python",
   "name": "python",
   "nbconvert_exporter": "python",
   "pygments_lexer": "ipython3",
   "version": "3.10.14"
  }
 },
 "nbformat": 4,
 "nbformat_minor": 2
}
