{
 "cells": [
  {
   "cell_type": "markdown",
   "metadata": {},
   "source": [
    "# 0. Import libraries"
   ]
  },
  {
   "cell_type": "code",
   "execution_count": 1,
   "metadata": {},
   "outputs": [],
   "source": [
    "import os\n",
    "import hashlib\n",
    "from datetime import datetime\n",
    "from collections import defaultdict"
   ]
  },
  {
   "cell_type": "markdown",
   "metadata": {},
   "source": [
    "# 1. Check image and label pairs"
   ]
  },
  {
   "cell_type": "code",
   "execution_count": 2,
   "metadata": {},
   "outputs": [],
   "source": [
    "def find_files_with_same_basename(directory):\n",
    "    # 用于存储文件名和对应的扩展名\n",
    "    file_dict = defaultdict(set)\n",
    "\n",
    "    # 遍历指定目录下的所有文件\n",
    "    for root, _, files in os.walk(directory):\n",
    "        for file in files:\n",
    "            basename, ext = os.path.splitext(file)\n",
    "            file_dict[basename].add(ext.lstrip(\".\"))  # 去掉扩展名前面的点\n",
    "\n",
    "    # 构建结果列表\n",
    "    result = [{\"basename\": basename, \"extensions\": list(extensions)} for basename, extensions in file_dict.items() if len(extensions) > 1]\n",
    "    \n",
    "    return result"
   ]
  },
  {
   "cell_type": "markdown",
   "metadata": {},
   "source": [
    "# 2. Rename files"
   ]
  },
  {
   "cell_type": "code",
   "execution_count": 3,
   "metadata": {},
   "outputs": [],
   "source": [
    "def rename_files(file_groups, directory, naming_method=\"timestamp\", start_index=1):\n",
    "    # 用于存储重命名后的文件信息\n",
    "    renamed_files = []\n",
    "\n",
    "    # 记录时间戳用于生成名字\n",
    "    timestamp = datetime.now().strftime(\"%Y%m%d_%H%M%S\")\n",
    "\n",
    "    for index, group in enumerate(file_groups, start=start_index):\n",
    "        basename = group[\"basename\"]\n",
    "        extensions = group[\"extensions\"]\n",
    "\n",
    "        # 根据不同的命名方式生成新文件名\n",
    "        if naming_method == \"timestamp\":\n",
    "            # 使用时间戳+序号生成名字\n",
    "            new_basename = f\"{timestamp}_{index}\"\n",
    "        elif naming_method == \"hash\":\n",
    "            # 使用hash生成名字\n",
    "            new_basename = hashlib.md5(basename.encode()).hexdigest()\n",
    "        else:\n",
    "            raise ValueError(\"不支持的命名方式\")\n",
    "\n",
    "        # 遍历该组的所有扩展名并重命名\n",
    "        for ext in extensions:\n",
    "            old_file = os.path.join(directory, f\"{basename}.{ext}\")\n",
    "            new_file = os.path.join(directory, f\"{new_basename}.{ext}\")\n",
    "\n",
    "            # 进行重命名\n",
    "            os.rename(old_file, new_file)\n",
    "\n",
    "            # 将旧文件路径与新文件路径映射存储\n",
    "            renamed_files.append({\n",
    "                \"old_file\": old_file,\n",
    "                \"new_file\": new_file\n",
    "            })\n",
    "\n",
    "    return renamed_files"
   ]
  },
  {
   "cell_type": "markdown",
   "metadata": {},
   "source": [
    "# 3. Main"
   ]
  },
  {
   "cell_type": "code",
   "execution_count": 4,
   "metadata": {},
   "outputs": [],
   "source": [
    "# 请求用户输入路径\n",
    "directory = input(\"请输入文件夹的路径: \")\n",
    "\n",
    "# 检查路径是否存在\n",
    "if os.path.exists(directory):\n",
    "    file_groups = find_files_with_same_basename(directory)\n",
    "    rename_files(file_groups, directory, naming_method=\"hash\")\n",
    "else:\n",
    "    print(\"指定的文件夹不存在\")"
   ]
  }
 ],
 "metadata": {
  "kernelspec": {
   "display_name": "imagesan",
   "language": "python",
   "name": "python3"
  },
  "language_info": {
   "codemirror_mode": {
    "name": "ipython",
    "version": 3
   },
   "file_extension": ".py",
   "mimetype": "text/x-python",
   "name": "python",
   "nbconvert_exporter": "python",
   "pygments_lexer": "ipython3",
   "version": "3.10.14"
  }
 },
 "nbformat": 4,
 "nbformat_minor": 2
}
