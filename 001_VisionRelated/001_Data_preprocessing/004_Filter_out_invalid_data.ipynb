{
 "cells": [
  {
   "cell_type": "markdown",
   "metadata": {},
   "source": [
    "# 0. Import libraries"
   ]
  },
  {
   "cell_type": "code",
   "execution_count": 1,
   "metadata": {},
   "outputs": [],
   "source": [
    "import os\n",
    "import shutil\n",
    "from collections import defaultdict"
   ]
  },
  {
   "cell_type": "markdown",
   "metadata": {},
   "source": [
    "# 1. Findout items if label is empty"
   ]
  },
  {
   "cell_type": "markdown",
   "metadata": {},
   "source": [
    "まず、同じベース名を持つすべてのファイルをリストします。"
   ]
  },
  {
   "cell_type": "code",
   "execution_count": 2,
   "metadata": {},
   "outputs": [],
   "source": [
    "def find_files_with_same_basename(directory):\n",
    "    # 用于存储文件名和对应的扩展名\n",
    "    file_dict = defaultdict(set)\n",
    "\n",
    "    # 遍历指定目录下的所有文件\n",
    "    for _, _, files in os.walk(directory):\n",
    "        for file in files:\n",
    "            basename, ext = os.path.splitext(file)\n",
    "            file_dict[basename].add(ext.lstrip(\".\"))  # 去掉扩展名前面的点\n",
    "\n",
    "    # 构建结果列表\n",
    "    result = [{\"basename\": basename, \"extensions\": list(extensions)} for basename, extensions in file_dict.items() if len(extensions) > 1]\n",
    "    \n",
    "    return result"
   ]
  },
  {
   "cell_type": "markdown",
   "metadata": {},
   "source": [
    "ラベルファイルが空の場合、アイテムを除外「じょがい」します。"
   ]
  },
  {
   "cell_type": "code",
   "execution_count": 3,
   "metadata": {},
   "outputs": [],
   "source": [
    "def find_empty_label_groups(file_groups, directory):\n",
    "    empty_label_groups = []\n",
    "\n",
    "    # 遍历 file_groups 列表，查找是否有 txt 文件并且为空\n",
    "    for group in file_groups:\n",
    "        basename = group[\"basename\"]\n",
    "        extensions = group[\"extensions\"]\n",
    "\n",
    "        # 如果有 txt 文件，检查它是否为空\n",
    "        if \"txt\" in extensions:\n",
    "            txt_file_path = os.path.join(directory, f\"{basename}.txt\")\n",
    "            if os.path.exists(txt_file_path) and os.path.getsize(txt_file_path) == 0:\n",
    "                empty_label_groups.append(group)\n",
    "        elif \"xml\" in extensions:\n",
    "            xml_file_path = os.path.join(directory, f\"{basename}.xml\")\n",
    "            if os.path.exists(xml_file_path) and os.path.getsize(xml_file_path) == 0:\n",
    "                empty_label_groups.append(group)\n",
    "        elif \"json\" in extensions:\n",
    "            json_file_path = os.path.join(directory, f\"{basename}.json\")\n",
    "            if os.path.exists(json_file_path) and os.path.getsize(json_file_path) == 0:\n",
    "                empty_label_groups.append(group)\n",
    "        else: # No label file, so add it to the list directly\n",
    "            empty_label_groups.append(group)\n",
    "\n",
    "    return empty_label_groups"
   ]
  },
  {
   "cell_type": "markdown",
   "metadata": {},
   "source": [
    "Move the items whose label files are empty to a new folder."
   ]
  },
  {
   "cell_type": "code",
   "execution_count": 4,
   "metadata": {},
   "outputs": [],
   "source": [
    "def move_empty_txt_files(empty_label_groups, src_directory, target_directory):\n",
    "    # 创建目标文件夹（如果不存在）\n",
    "    if not os.path.exists(target_directory):\n",
    "        os.makedirs(target_directory)\n",
    "\n",
    "    # 遍历空的txt文件并将它们移动到新的文件夹\n",
    "    for empty_item in empty_label_groups:\n",
    "        basename = empty_item[\"basename\"]\n",
    "        for ext in empty_item[\"extensions\"]:\n",
    "            src_path = os.path.join(src_directory, f\"{basename}.{ext}\")\n",
    "            dst_path = os.path.join(target_directory, f\"{basename}.{ext}\")\n",
    "\n",
    "            # 移动文件\n",
    "            shutil.move(src_path, dst_path)\n",
    "            print(f\"Moved: {src_path} -> {dst_path}\")"
   ]
  },
  {
   "cell_type": "markdown",
   "metadata": {},
   "source": [
    "# 2. Main"
   ]
  },
  {
   "cell_type": "code",
   "execution_count": 5,
   "metadata": {},
   "outputs": [
    {
     "name": "stdout",
     "output_type": "stream",
     "text": [
      "Moved: /home/orlando/Downloads/fire_20231025_yolo/valid/07a9cbdf6b17f8bdfc71cf2584822b9b.txt -> /home/orlando/Downloads/fire_20231025_yolo/valid/invalid/07a9cbdf6b17f8bdfc71cf2584822b9b.txt\n",
      "Moved: /home/orlando/Downloads/fire_20231025_yolo/valid/07a9cbdf6b17f8bdfc71cf2584822b9b.jpeg -> /home/orlando/Downloads/fire_20231025_yolo/valid/invalid/07a9cbdf6b17f8bdfc71cf2584822b9b.jpeg\n",
      "Moved: /home/orlando/Downloads/fire_20231025_yolo/valid/08879c405b7317cf9703a8d437e0629f.png -> /home/orlando/Downloads/fire_20231025_yolo/valid/invalid/08879c405b7317cf9703a8d437e0629f.png\n",
      "Moved: /home/orlando/Downloads/fire_20231025_yolo/valid/08879c405b7317cf9703a8d437e0629f.txt -> /home/orlando/Downloads/fire_20231025_yolo/valid/invalid/08879c405b7317cf9703a8d437e0629f.txt\n",
      "Moved: /home/orlando/Downloads/fire_20231025_yolo/valid/160169bb229e14eb3592afeb9d685a2c.txt -> /home/orlando/Downloads/fire_20231025_yolo/valid/invalid/160169bb229e14eb3592afeb9d685a2c.txt\n",
      "Moved: /home/orlando/Downloads/fire_20231025_yolo/valid/160169bb229e14eb3592afeb9d685a2c.jpeg -> /home/orlando/Downloads/fire_20231025_yolo/valid/invalid/160169bb229e14eb3592afeb9d685a2c.jpeg\n",
      "Moved: /home/orlando/Downloads/fire_20231025_yolo/valid/171d62f7507cf8f5805776f07c4e79fa.txt -> /home/orlando/Downloads/fire_20231025_yolo/valid/invalid/171d62f7507cf8f5805776f07c4e79fa.txt\n",
      "Moved: /home/orlando/Downloads/fire_20231025_yolo/valid/171d62f7507cf8f5805776f07c4e79fa.jpeg -> /home/orlando/Downloads/fire_20231025_yolo/valid/invalid/171d62f7507cf8f5805776f07c4e79fa.jpeg\n",
      "Moved: /home/orlando/Downloads/fire_20231025_yolo/valid/1f91295ffac193ee1c85a22e304bea54.txt -> /home/orlando/Downloads/fire_20231025_yolo/valid/invalid/1f91295ffac193ee1c85a22e304bea54.txt\n",
      "Moved: /home/orlando/Downloads/fire_20231025_yolo/valid/1f91295ffac193ee1c85a22e304bea54.jpeg -> /home/orlando/Downloads/fire_20231025_yolo/valid/invalid/1f91295ffac193ee1c85a22e304bea54.jpeg\n",
      "Moved: /home/orlando/Downloads/fire_20231025_yolo/valid/2611ff6921f5fd9061f5c850d8bfc905.png -> /home/orlando/Downloads/fire_20231025_yolo/valid/invalid/2611ff6921f5fd9061f5c850d8bfc905.png\n",
      "Moved: /home/orlando/Downloads/fire_20231025_yolo/valid/2611ff6921f5fd9061f5c850d8bfc905.txt -> /home/orlando/Downloads/fire_20231025_yolo/valid/invalid/2611ff6921f5fd9061f5c850d8bfc905.txt\n",
      "Moved: /home/orlando/Downloads/fire_20231025_yolo/valid/30693cb5aa53df79774477c5bbb87462.txt -> /home/orlando/Downloads/fire_20231025_yolo/valid/invalid/30693cb5aa53df79774477c5bbb87462.txt\n",
      "Moved: /home/orlando/Downloads/fire_20231025_yolo/valid/30693cb5aa53df79774477c5bbb87462.jpeg -> /home/orlando/Downloads/fire_20231025_yolo/valid/invalid/30693cb5aa53df79774477c5bbb87462.jpeg\n",
      "Moved: /home/orlando/Downloads/fire_20231025_yolo/valid/32f1f628be0f74036b1f36c738be34de.txt -> /home/orlando/Downloads/fire_20231025_yolo/valid/invalid/32f1f628be0f74036b1f36c738be34de.txt\n",
      "Moved: /home/orlando/Downloads/fire_20231025_yolo/valid/32f1f628be0f74036b1f36c738be34de.jpeg -> /home/orlando/Downloads/fire_20231025_yolo/valid/invalid/32f1f628be0f74036b1f36c738be34de.jpeg\n",
      "Moved: /home/orlando/Downloads/fire_20231025_yolo/valid/356ecc8ceaa0fceeeb0e2c8903b5d8d7.png -> /home/orlando/Downloads/fire_20231025_yolo/valid/invalid/356ecc8ceaa0fceeeb0e2c8903b5d8d7.png\n",
      "Moved: /home/orlando/Downloads/fire_20231025_yolo/valid/356ecc8ceaa0fceeeb0e2c8903b5d8d7.txt -> /home/orlando/Downloads/fire_20231025_yolo/valid/invalid/356ecc8ceaa0fceeeb0e2c8903b5d8d7.txt\n",
      "Moved: /home/orlando/Downloads/fire_20231025_yolo/valid/757b191c72e606f1e2c1c0f09d1bf417.txt -> /home/orlando/Downloads/fire_20231025_yolo/valid/invalid/757b191c72e606f1e2c1c0f09d1bf417.txt\n",
      "Moved: /home/orlando/Downloads/fire_20231025_yolo/valid/757b191c72e606f1e2c1c0f09d1bf417.jpeg -> /home/orlando/Downloads/fire_20231025_yolo/valid/invalid/757b191c72e606f1e2c1c0f09d1bf417.jpeg\n",
      "Moved: /home/orlando/Downloads/fire_20231025_yolo/valid/7c64fd6bfc5fb1e9e12e13408f7b6d38.png -> /home/orlando/Downloads/fire_20231025_yolo/valid/invalid/7c64fd6bfc5fb1e9e12e13408f7b6d38.png\n",
      "Moved: /home/orlando/Downloads/fire_20231025_yolo/valid/7c64fd6bfc5fb1e9e12e13408f7b6d38.txt -> /home/orlando/Downloads/fire_20231025_yolo/valid/invalid/7c64fd6bfc5fb1e9e12e13408f7b6d38.txt\n",
      "Moved: /home/orlando/Downloads/fire_20231025_yolo/valid/861412dd57045a3d3fd914eaf13e445e.png -> /home/orlando/Downloads/fire_20231025_yolo/valid/invalid/861412dd57045a3d3fd914eaf13e445e.png\n",
      "Moved: /home/orlando/Downloads/fire_20231025_yolo/valid/861412dd57045a3d3fd914eaf13e445e.txt -> /home/orlando/Downloads/fire_20231025_yolo/valid/invalid/861412dd57045a3d3fd914eaf13e445e.txt\n",
      "Moved: /home/orlando/Downloads/fire_20231025_yolo/valid/86f24ef8ee3e0c570df7ae6cd5929f35.txt -> /home/orlando/Downloads/fire_20231025_yolo/valid/invalid/86f24ef8ee3e0c570df7ae6cd5929f35.txt\n",
      "Moved: /home/orlando/Downloads/fire_20231025_yolo/valid/86f24ef8ee3e0c570df7ae6cd5929f35.jpeg -> /home/orlando/Downloads/fire_20231025_yolo/valid/invalid/86f24ef8ee3e0c570df7ae6cd5929f35.jpeg\n",
      "Moved: /home/orlando/Downloads/fire_20231025_yolo/valid/88e3fc6852a59dfd812aaffb9a0f328b.png -> /home/orlando/Downloads/fire_20231025_yolo/valid/invalid/88e3fc6852a59dfd812aaffb9a0f328b.png\n",
      "Moved: /home/orlando/Downloads/fire_20231025_yolo/valid/88e3fc6852a59dfd812aaffb9a0f328b.txt -> /home/orlando/Downloads/fire_20231025_yolo/valid/invalid/88e3fc6852a59dfd812aaffb9a0f328b.txt\n",
      "Moved: /home/orlando/Downloads/fire_20231025_yolo/valid/8d69b475876d5f95864b26e1ecea0994.txt -> /home/orlando/Downloads/fire_20231025_yolo/valid/invalid/8d69b475876d5f95864b26e1ecea0994.txt\n",
      "Moved: /home/orlando/Downloads/fire_20231025_yolo/valid/8d69b475876d5f95864b26e1ecea0994.jpeg -> /home/orlando/Downloads/fire_20231025_yolo/valid/invalid/8d69b475876d5f95864b26e1ecea0994.jpeg\n",
      "Moved: /home/orlando/Downloads/fire_20231025_yolo/valid/90c93b75618d3d2eccf56548758679ad.txt -> /home/orlando/Downloads/fire_20231025_yolo/valid/invalid/90c93b75618d3d2eccf56548758679ad.txt\n",
      "Moved: /home/orlando/Downloads/fire_20231025_yolo/valid/90c93b75618d3d2eccf56548758679ad.jpeg -> /home/orlando/Downloads/fire_20231025_yolo/valid/invalid/90c93b75618d3d2eccf56548758679ad.jpeg\n",
      "Moved: /home/orlando/Downloads/fire_20231025_yolo/valid/9196d5ac3dd7150badec6d43c8fb0823.png -> /home/orlando/Downloads/fire_20231025_yolo/valid/invalid/9196d5ac3dd7150badec6d43c8fb0823.png\n",
      "Moved: /home/orlando/Downloads/fire_20231025_yolo/valid/9196d5ac3dd7150badec6d43c8fb0823.txt -> /home/orlando/Downloads/fire_20231025_yolo/valid/invalid/9196d5ac3dd7150badec6d43c8fb0823.txt\n",
      "Moved: /home/orlando/Downloads/fire_20231025_yolo/valid/a23875214aa87e3c9b9e5fdc0377f02b.png -> /home/orlando/Downloads/fire_20231025_yolo/valid/invalid/a23875214aa87e3c9b9e5fdc0377f02b.png\n",
      "Moved: /home/orlando/Downloads/fire_20231025_yolo/valid/a23875214aa87e3c9b9e5fdc0377f02b.txt -> /home/orlando/Downloads/fire_20231025_yolo/valid/invalid/a23875214aa87e3c9b9e5fdc0377f02b.txt\n",
      "Moved: /home/orlando/Downloads/fire_20231025_yolo/valid/bf2018ce53635ea44f2018e893ae08ee.txt -> /home/orlando/Downloads/fire_20231025_yolo/valid/invalid/bf2018ce53635ea44f2018e893ae08ee.txt\n",
      "Moved: /home/orlando/Downloads/fire_20231025_yolo/valid/bf2018ce53635ea44f2018e893ae08ee.jpeg -> /home/orlando/Downloads/fire_20231025_yolo/valid/invalid/bf2018ce53635ea44f2018e893ae08ee.jpeg\n",
      "Moved: /home/orlando/Downloads/fire_20231025_yolo/valid/d317cfd67166d1859d98faf56870dc63.txt -> /home/orlando/Downloads/fire_20231025_yolo/valid/invalid/d317cfd67166d1859d98faf56870dc63.txt\n",
      "Moved: /home/orlando/Downloads/fire_20231025_yolo/valid/d317cfd67166d1859d98faf56870dc63.jpeg -> /home/orlando/Downloads/fire_20231025_yolo/valid/invalid/d317cfd67166d1859d98faf56870dc63.jpeg\n",
      "Moved: /home/orlando/Downloads/fire_20231025_yolo/valid/d8e873b776bf521c59ededcd5c37728f.txt -> /home/orlando/Downloads/fire_20231025_yolo/valid/invalid/d8e873b776bf521c59ededcd5c37728f.txt\n",
      "Moved: /home/orlando/Downloads/fire_20231025_yolo/valid/d8e873b776bf521c59ededcd5c37728f.jpeg -> /home/orlando/Downloads/fire_20231025_yolo/valid/invalid/d8e873b776bf521c59ededcd5c37728f.jpeg\n",
      "Moved: /home/orlando/Downloads/fire_20231025_yolo/valid/db1225307eb8b0aefd3df3a65654af15.txt -> /home/orlando/Downloads/fire_20231025_yolo/valid/invalid/db1225307eb8b0aefd3df3a65654af15.txt\n",
      "Moved: /home/orlando/Downloads/fire_20231025_yolo/valid/db1225307eb8b0aefd3df3a65654af15.jpeg -> /home/orlando/Downloads/fire_20231025_yolo/valid/invalid/db1225307eb8b0aefd3df3a65654af15.jpeg\n",
      "Moved: /home/orlando/Downloads/fire_20231025_yolo/valid/db3b727a4d02d019e4b3555d43b0c7cb.txt -> /home/orlando/Downloads/fire_20231025_yolo/valid/invalid/db3b727a4d02d019e4b3555d43b0c7cb.txt\n",
      "Moved: /home/orlando/Downloads/fire_20231025_yolo/valid/db3b727a4d02d019e4b3555d43b0c7cb.jpeg -> /home/orlando/Downloads/fire_20231025_yolo/valid/invalid/db3b727a4d02d019e4b3555d43b0c7cb.jpeg\n",
      "Moved: /home/orlando/Downloads/fire_20231025_yolo/valid/f969e2310ae605082451520d3aee13a3.txt -> /home/orlando/Downloads/fire_20231025_yolo/valid/invalid/f969e2310ae605082451520d3aee13a3.txt\n",
      "Moved: /home/orlando/Downloads/fire_20231025_yolo/valid/f969e2310ae605082451520d3aee13a3.jpeg -> /home/orlando/Downloads/fire_20231025_yolo/valid/invalid/f969e2310ae605082451520d3aee13a3.jpeg\n",
      "已经移动了24个文件\n"
     ]
    }
   ],
   "source": [
    "# 请求用户输入路径\n",
    "src_directory = input(\"请输入文件夹的路径: \")\n",
    "dst_directory = input(\"请输入目标文件夹的路径: \")\n",
    "\n",
    "# 检查路径是否存在\n",
    "if os.path.exists(src_directory):\n",
    "    # 查找具有相同基本名称的文件\n",
    "    file_groups = find_files_with_same_basename(src_directory)\n",
    "\n",
    "    # Find out whose labels are empty\n",
    "    empty_label_groups = find_empty_label_groups(file_groups, src_directory)\n",
    "\n",
    "    # Move invalid items to a new folder\n",
    "    move_empty_txt_files(empty_label_groups, src_directory, dst_directory)\n",
    "\n",
    "    # Print the number of files that have been moved\n",
    "    print(\"已经移动了{}个文件\".format(len(empty_label_groups)))\n",
    "\n",
    "else:\n",
    "    print(\"指定的文件夹不存在\")"
   ]
  }
 ],
 "metadata": {
  "kernelspec": {
   "display_name": "imagesan",
   "language": "python",
   "name": "python3"
  },
  "language_info": {
   "codemirror_mode": {
    "name": "ipython",
    "version": 3
   },
   "file_extension": ".py",
   "mimetype": "text/x-python",
   "name": "python",
   "nbconvert_exporter": "python",
   "pygments_lexer": "ipython3",
   "version": "3.10.14"
  }
 },
 "nbformat": 4,
 "nbformat_minor": 2
}
