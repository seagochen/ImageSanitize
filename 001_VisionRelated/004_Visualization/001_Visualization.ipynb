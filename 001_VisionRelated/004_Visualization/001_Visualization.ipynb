{
 "cells": [
  {
   "cell_type": "markdown",
   "metadata": {},
   "source": [
    "# 0. Import libraries"
   ]
  },
  {
   "cell_type": "code",
   "execution_count": 1,
   "metadata": {},
   "outputs": [],
   "source": [
    "import numpy as np\n",
    "import os\n",
    "import cv2\n",
    "from collections import defaultdict"
   ]
  },
  {
   "cell_type": "markdown",
   "metadata": {},
   "source": [
    "# 1. Define the visualization effects"
   ]
  },
  {
   "cell_type": "code",
   "execution_count": 2,
   "metadata": {},
   "outputs": [],
   "source": [
    "# Define a list of colors for different classes (for simplicity, we assume 10 classes)\n",
    "bbox_colors = [\n",
    "    (255, 0, 0),    # Class 0: Blue\n",
    "    (0, 255, 0),    # Class 1: Green\n",
    "    (0, 0, 255),    # Class 2: Red\n",
    "    (255, 255, 0),  # Class 3: Cyan\n",
    "    (255, 0, 255),  # Class 4: Magenta\n",
    "    (0, 255, 255),  # Class 5: Yellow\n",
    "    (128, 0, 128),  # Class 6: Purple\n",
    "    (128, 128, 0),  # Class 7: Olive\n",
    "    (128, 128, 128),# Class 8: Gray\n",
    "    (0, 128, 255)   # Class 9: Orange\n",
    "]\n"
   ]
  },
  {
   "cell_type": "markdown",
   "metadata": {},
   "source": [
    "# 2. Group the labels and images by basenames"
   ]
  },
  {
   "cell_type": "code",
   "execution_count": 3,
   "metadata": {},
   "outputs": [],
   "source": [
    "def find_files_with_same_basename(directory):\n",
    "    # 用于存储文件名和对应的扩展名\n",
    "    file_dict = defaultdict(set)\n",
    "\n",
    "    # 遍历指定目录下的所有文件\n",
    "    for _, _, files in os.walk(directory):\n",
    "        for file in files:\n",
    "            basename, ext = os.path.splitext(file)\n",
    "            file_dict[basename].add(ext.lstrip(\".\"))  # 去掉扩展名前面的点\n",
    "\n",
    "    # 构建结果列表\n",
    "    result = [{\"basename\": basename, \"extensions\": list(extensions)} for basename, extensions in file_dict.items() if len(extensions) > 1]\n",
    "    \n",
    "    return result"
   ]
  },
  {
   "cell_type": "markdown",
   "metadata": {},
   "source": [
    "# 3. Draw with ground-truth"
   ]
  },
  {
   "cell_type": "code",
   "execution_count": 4,
   "metadata": {},
   "outputs": [],
   "source": [
    "def draw_box_on_image(image, ground_truth: str, index: int):\n",
    "    # Split the ground thuth string into separate parts\n",
    "    # str -> class, lx, ly, rx, ry\n",
    "    ground_truth = ground_truth.split(\" \")\n",
    "    _, cx, cy, w, h = int(ground_truth[0]), float(ground_truth[1]), float(ground_truth[2]), float(ground_truth[3]), float(ground_truth[4])\n",
    "    width, height = image.shape[1], image.shape[0]\n",
    "\n",
    "    # Calculate the top-left and bottom-right coordinates\n",
    "    lx = int((cx - w / 2) * width)\n",
    "    ly = int((cy - h / 2) * height)\n",
    "    rx = int((cx + w / 2) * width)\n",
    "    ry = int((cy + h / 2) * height)\n",
    "\n",
    "    # Select color based on class\n",
    "    box_color = bbox_colors[index % len(bbox_colors)]\n",
    "\n",
    "    # Draw the bounding box\n",
    "    cv2.rectangle(image, (lx, ly), (rx, ry), box_color, 2)\n",
    "\n",
    "    return image"
   ]
  },
  {
   "cell_type": "markdown",
   "metadata": {},
   "source": [
    "# 4. Search the image by basename"
   ]
  },
  {
   "cell_type": "code",
   "execution_count": 5,
   "metadata": {},
   "outputs": [],
   "source": [
    "def find_image_file(extensions, src_directory, basename):\n",
    "    # 查找图片文件\n",
    "    for ext in extensions:\n",
    "        if ext in [\"jpg\", \"jpeg\", \"png\", \"bmp\"]:  # 假设这些是支持的图片格式\n",
    "            image_file_path = os.path.join(src_directory, f\"{basename}.{ext}\")\n",
    "            if os.path.exists(image_file_path):\n",
    "                return image_file_path\n",
    "    return None"
   ]
  },
  {
   "cell_type": "markdown",
   "metadata": {},
   "source": [
    "# 5. Main"
   ]
  },
  {
   "cell_type": "code",
   "execution_count": null,
   "metadata": {},
   "outputs": [],
   "source": [
    "# 请求用户输入路径\n",
    "src_directory = input(\"请输入文件夹的路径: \")\n",
    "dst_directory = input(\"请输入目标文件夹的路径: \")\n",
    "\n",
    "# Check if the destination directory exists\n",
    "if not os.path.exists(dst_directory):\n",
    "    os.makedirs(dst_directory)\n",
    "\n",
    "# Check if the source directory exists\n",
    "if os.path.exists(src_directory):\n",
    "    # Group files with the same basename\n",
    "    file_groups = find_files_with_same_basename(src_directory)\n",
    "\n",
    "    # Draw the bounding boxes on the images\n",
    "    for file_group in file_groups:\n",
    "\n",
    "        # 查找并加载图片文件\n",
    "        image_file_path = find_image_file(file_group[\"extensions\"], src_directory, file_group[\"basename\"])\n",
    "        if not image_file_path:\n",
    "            print(f\"没有找到对应的图片文件: {file_group['basename']}\")\n",
    "            continue\n",
    "\n",
    "        image = cv2.imread(image_file_path)\n",
    "        if image is None:\n",
    "            print(f\"无法加载图片: {image_file_path}\")\n",
    "            continue\n",
    "\n",
    "        # 处理txt文件并绘制边框\n",
    "        txt_file_path = os.path.join(src_directory, f\"{file_group['basename']}.txt\")\n",
    "        if os.path.exists(txt_file_path):\n",
    "            with open(txt_file_path, \"r\") as file:\n",
    "                try:\n",
    "                    for idx, line in enumerate(file):\n",
    "                        image = draw_box_on_image(image, line.strip(), idx)\n",
    "                except Exception as e:\n",
    "                    print(f\"数据格式无效: {txt_file_path} - {e}\")\n",
    "                    continue\n",
    "        else:\n",
    "            print(f\"没有找到对应的标签文件: {txt_file_path}\")\n",
    "            continue\n",
    "\n",
    "        # Save the image with bounding boxes\n",
    "        output_image_path = os.path.join(dst_directory, f\"{file_group['basename']}_bbox.jpg\")\n",
    "        if image is not None:\n",
    "            cv2.imwrite(output_image_path, image)\n",
    "\n",
    "else:\n",
    "    print(\"指定的文件夹不存在\")"
   ]
  }
 ],
 "metadata": {
  "kernelspec": {
   "display_name": "imagesan",
   "language": "python",
   "name": "python3"
  },
  "language_info": {
   "codemirror_mode": {
    "name": "ipython",
    "version": 3
   },
   "file_extension": ".py",
   "mimetype": "text/x-python",
   "name": "python",
   "nbconvert_exporter": "python",
   "pygments_lexer": "ipython3",
   "version": "3.10.14"
  }
 },
 "nbformat": 4,
 "nbformat_minor": 2
}
