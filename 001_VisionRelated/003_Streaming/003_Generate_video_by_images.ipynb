{
 "cells": [
  {
   "cell_type": "markdown",
   "metadata": {},
   "source": [
    "# 0. Import libraries"
   ]
  },
  {
   "cell_type": "code",
   "execution_count": 10,
   "metadata": {},
   "outputs": [],
   "source": [
    "import cv2\n",
    "import os"
   ]
  },
  {
   "cell_type": "markdown",
   "metadata": {},
   "source": [
    "这个脚本与 `002_Convert_images_to_video` 的最大区别，是在于该脚本可以通过一张或数张图片，生成一个固定时长的视频文件。而 `002_Convert_images_to_video` 本质上是 `001_Convert_video_to_images` 的逆操作。"
   ]
  },
  {
   "cell_type": "markdown",
   "metadata": {},
   "source": [
    "# 1. Generate video by images"
   ]
  },
  {
   "cell_type": "code",
   "execution_count": 11,
   "metadata": {},
   "outputs": [],
   "source": [
    "def generate_video_from_images(image_folder, video_name='output', \n",
    "                               img_size=(1920, 1080), img_format='png',\n",
    "                               fps=20, duration=10, codec='XVID'):\n",
    "    # 获取图片列表\n",
    "    images = [img for img in os.listdir(image_folder) if img.endswith(f\".{img_format}\")]\n",
    "    images.sort()  # 按名字排序，确保顺序一致\n",
    "\n",
    "    # 检查是否有图片\n",
    "    if len(images) == 0:\n",
    "        print(f\"No images found in {image_folder}. Exiting.\")\n",
    "        return\n",
    "    \n",
    "    # 定义视频编码器和输出文件\n",
    "    fourcc = cv2.VideoWriter_fourcc(*codec)\n",
    "    video_name = f\"{video_name}.avi\"\n",
    "    video = cv2.VideoWriter(video_name, fourcc, fps, img_size)\n",
    "\n",
    "    # 计算每张图片的显示帧数\n",
    "    total_frames = fps * duration\n",
    "    frames_per_image = total_frames // len(images)\n",
    "    \n",
    "    # 逐张图片添加到视频中\n",
    "    for image_name in images:\n",
    "        image_path = os.path.join(image_folder, image_name)\n",
    "        img = cv2.imread(image_path)\n",
    "        \n",
    "        # 检查图片是否加载成功\n",
    "        if img is None:\n",
    "            print(f\"Error loading image {image_path}. Skipping.\")\n",
    "            continue\n",
    "        \n",
    "        # 调整图片大小到指定的尺寸\n",
    "        img = cv2.resize(img, img_size)\n",
    "        \n",
    "        # 添加多帧以延长每张图片的显示时间\n",
    "        for _ in range(frames_per_image):\n",
    "            video.write(img)\n",
    "    \n",
    "    # 释放视频对象\n",
    "    video.release()\n",
    "    print(f\"Video saved as {video_name}\")"
   ]
  },
  {
   "cell_type": "markdown",
   "metadata": {},
   "source": [
    "# 2. Main"
   ]
  },
  {
   "cell_type": "code",
   "execution_count": 12,
   "metadata": {},
   "outputs": [
    {
     "name": "stdout",
     "output_type": "stream",
     "text": [
      "Video saved as test.avi\n"
     ]
    }
   ],
   "source": [
    "# Request the user to input the path to the images\n",
    "image_path = input(\"请输入图片文件的路径: \")\n",
    "\n",
    "# Global variables\n",
    "img_size = (800, 600)\n",
    "img_format = 'jpg'\n",
    "fps = 20\n",
    "duration = 10\n",
    "codec = 'XVID'\n",
    "\n",
    "# Generate the video\n",
    "generate_video_from_images(image_path, img_size=img_size, img_format=img_format, fps=fps, duration=duration, codec=codec)"
   ]
  }
 ],
 "metadata": {
  "kernelspec": {
   "display_name": "utils_data",
   "language": "python",
   "name": "python3"
  },
  "language_info": {
   "codemirror_mode": {
    "name": "ipython",
    "version": 3
   },
   "file_extension": ".py",
   "mimetype": "text/x-python",
   "name": "python",
   "nbconvert_exporter": "python",
   "pygments_lexer": "ipython3",
   "version": "3.10.15"
  }
 },
 "nbformat": 4,
 "nbformat_minor": 2
}
