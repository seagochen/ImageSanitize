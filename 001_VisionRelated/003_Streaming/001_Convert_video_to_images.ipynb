{
 "cells": [
  {
   "cell_type": "markdown",
   "id": "ec69c643447af2a8",
   "metadata": {},
   "source": [
    "# 0. Import libraries"
   ]
  },
  {
   "cell_type": "code",
   "execution_count": 1,
   "id": "initial_id",
   "metadata": {},
   "outputs": [],
   "source": [
    "import cv2\n",
    "import os"
   ]
  },
  {
   "cell_type": "markdown",
   "id": "16889ba3597dfeeb",
   "metadata": {},
   "source": [
    "# 1. Convert the video into frames"
   ]
  },
  {
   "cell_type": "code",
   "execution_count": 2,
   "id": "24036ba9",
   "metadata": {},
   "outputs": [],
   "source": [
    "def convert_video_to_images(video_path, output_folder, start_frame=0, end_frame=None, frame_interval=-1):\n",
    "\n",
    "    # Open the video file\n",
    "    cap = cv2.VideoCapture(video_path)\n",
    "\n",
    "    # Create output folder if it doesn't exist\n",
    "    if not os.path.exists(output_folder):\n",
    "        os.makedirs(output_folder)\n",
    "\n",
    "    # Get the FPS of the video\n",
    "    CAP_FPS = cap.get(cv2.CAP_PROP_FPS)\n",
    "\n",
    "    # Get the name of the video file\n",
    "    img_base_name = os.path.basename(video_path).split(\".\")[0]\n",
    "\n",
    "    # Use the count to name the images\n",
    "    count = 0\n",
    "    while cap.isOpened():\n",
    "        ret, frame = cap.read()\n",
    "        if not ret:\n",
    "            break\n",
    "\n",
    "        # Skip frames if needed\n",
    "        if count < start_frame:\n",
    "            continue\n",
    "\n",
    "        # Break if end_frame is reached\n",
    "        if end_frame is not None and count > end_frame:\n",
    "            break\n",
    "\n",
    "        # Skip frames if needed\n",
    "        if frame_interval > 0 and count % frame_interval != 0:\n",
    "            continue\n",
    "\n",
    "        cv2.imwrite(os.path.join(output_folder, f\"{img_base_name}_{count:06d}.png\"), frame)\n",
    "        count += 1"
   ]
  },
  {
   "cell_type": "markdown",
   "id": "511dd954fc666dd6",
   "metadata": {},
   "source": [
    "# 2. Main"
   ]
  },
  {
   "cell_type": "code",
   "execution_count": 3,
   "id": "4b36a107",
   "metadata": {},
   "outputs": [],
   "source": [
    "# Get the video path from the user\n",
    "images_path = input(\"请输入视频的路径: \")\n",
    "\n",
    "# Get the output folder by removing the file extension from the video path\n",
    "output_folder = images_path.split(\".\")[0]\n",
    "\n",
    "# Define other parameters\n",
    "start_frame=0\n",
    "end_frame=None\n",
    "frame_interval=1\n",
    "\n",
    "# Convert the video to images\n",
    "convert_video_to_images(images_path, output_folder, start_frame, end_frame, frame_interval)"
   ]
  }
 ],
 "metadata": {
  "kernelspec": {
   "display_name": "Python 3",
   "language": "python",
   "name": "python3"
  },
  "language_info": {
   "codemirror_mode": {
    "name": "ipython",
    "version": 3
   },
   "file_extension": ".py",
   "mimetype": "text/x-python",
   "name": "python",
   "nbconvert_exporter": "python",
   "pygments_lexer": "ipython3",
   "version": "3.12.4"
  }
 },
 "nbformat": 4,
 "nbformat_minor": 5
}
