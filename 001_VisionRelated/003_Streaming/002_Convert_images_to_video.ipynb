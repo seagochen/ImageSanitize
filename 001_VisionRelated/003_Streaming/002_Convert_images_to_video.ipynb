{
 "cells": [
  {
   "cell_type": "markdown",
   "id": "bc134ee039e862de",
   "metadata": {},
   "source": [
    "# 0. Import libraries"
   ]
  },
  {
   "cell_type": "code",
   "execution_count": null,
   "id": "c0ebc3a32367b94e",
   "metadata": {},
   "outputs": [],
   "source": [
    "import cv2\n",
    "import os"
   ]
  },
  {
   "cell_type": "markdown",
   "id": "a4df57835acd2f19",
   "metadata": {},
   "source": [
    "# 1. Convert images into video"
   ]
  },
  {
   "cell_type": "code",
   "execution_count": null,
   "id": "aef4492cdb54917c",
   "metadata": {},
   "outputs": [],
   "source": [
    "def convert_images_to_video(images_folder, output_folder, video_name, fps=25):\n",
    "    \n",
    "    # Iterate over all the images in the folder\n",
    "    images = [img for img in os.listdir(images_folder) if img.endswith(\".png\") or img.endswith(\".jpg\")]\n",
    "\n",
    "    # Sort the images by alphabetical order\n",
    "    images.sort()\n",
    "\n",
    "    # Create output folder if it doesn't exist\n",
    "    if not os.path.exists(output_folder):\n",
    "        os.makedirs(output_folder)\n",
    "\n",
    "    # Get the first image to get the size of the video\n",
    "    img = cv2.imread(os.path.join(images_folder, images[0]))\n",
    "    height, width, _ = img.shape\n",
    "\n",
    "    # Create the video writer and set the FPS to 25\n",
    "    video = cv2.VideoWriter(os.path.join(output_folder, video_name), cv2.VideoWriter_fourcc(*'DIVX'), fps, (width, height))\n",
    "\n",
    "    for image in images:\n",
    "        video.write(cv2.imread(os.path.join(images_folder, image)))\n",
    "    \n",
    "    # Release the video writer\n",
    "    video.release()"
   ]
  },
  {
   "cell_type": "markdown",
   "id": "4bbb1a9221df830a",
   "metadata": {},
   "source": [
    "# 2. Main"
   ]
  },
  {
   "cell_type": "code",
   "execution_count": null,
   "id": "26d7b35359976393",
   "metadata": {},
   "outputs": [],
   "source": [
    "# Request the user to input the path to the images\n",
    "video_path = input(\"请输入图片文件的路径: \")\n",
    "\n",
    "# Request the user to input the path to the output folder\n",
    "output_folder = input(\"请输入输出文件夹的路径: \")\n",
    "\n",
    "# Set the output video name\n",
    "video_name = os.path.join(output_folder, \"output.avi\")\n",
    "\n",
    "# Set the FPS of the video\n",
    "fps = 25\n",
    "\n",
    "# Convert the video to images\n",
    "convert_images_to_video(video_path, output_folder, video_name, fps)"
   ]
  }
 ],
 "metadata": {
  "kernelspec": {
   "display_name": "utils_data",
   "language": "python",
   "name": "python3"
  },
  "language_info": {
   "codemirror_mode": {
    "name": "ipython",
    "version": 3
   },
   "file_extension": ".py",
   "mimetype": "text/x-python",
   "name": "python",
   "nbconvert_exporter": "python",
   "pygments_lexer": "ipython3",
   "version": "3.10.15"
  }
 },
 "nbformat": 4,
 "nbformat_minor": 5
}
